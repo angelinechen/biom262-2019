{
 "cells": [
  {
   "cell_type": "markdown",
   "metadata": {},
   "source": [
    "# Install instructions for Week 10 lectures"
   ]
  },
  {
   "cell_type": "markdown",
   "metadata": {},
   "source": [
    "**1) Install PLINK**\n",
    "\n",
    "    conda install -c bioconda plink\n",
    "    \n",
    "**2) Install admixture**\n",
    "\n",
    "This one is not available in anaconda, so we are going to get the source code from [here](http://software.genetics.ucla.edu/admixture).\n",
    "\n",
    "    cd ~/software\n",
    "    \n",
    "    wget http://software.genetics.ucla.edu/admixture/binaries/admixture_linux-1.3.0.tar.gz\n",
    "    \n",
    "    tar -xvf admixture_linux-1.3.0.tar.gz\n",
    "    \n",
    "Add this path to your ~/.bashrc. REMEMBER TO CHANGE ## TO YOUR NUMBER\n",
    "\n",
    "    PATH=\"/home/ucsd-train##/software/admixture_linux-1.3.0/:$PATH\"\n",
    "    \n",
    "**3) Install R package Vegan and Permute directly from within R (conda has issues solving the package configurations)**\n",
    "\n",
    "You only need to install 'vegan' since it will automatically install 'permute' too.\n",
    "\n",
    "    R\n",
    "    install.packages('vegan')\n",
    "    \n",
    "    \n",
    "Check for proper install by loading the library.\n",
    "\n",
    "    library(vegan)    \n"
   ]
  }
 ],
 "metadata": {
  "kernelspec": {
   "display_name": "Python 3",
   "language": "python",
   "name": "python3"
  },
  "language_info": {
   "codemirror_mode": {
    "name": "ipython",
    "version": 3
   },
   "file_extension": ".py",
   "mimetype": "text/x-python",
   "name": "python",
   "nbconvert_exporter": "python",
   "pygments_lexer": "ipython3",
   "version": "3.7.1"
  }
 },
 "nbformat": 4,
 "nbformat_minor": 1
}

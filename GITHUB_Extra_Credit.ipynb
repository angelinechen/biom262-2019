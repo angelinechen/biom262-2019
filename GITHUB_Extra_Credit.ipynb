{
 "cells": [
  {
   "cell_type": "markdown",
   "metadata": {},
   "source": [
    "# GITHUB CONTRIBUTION EXTRA CREDIT FOR CMM262:\n",
    "---\n",
    "\n",
    "## GUIDELINES \n",
    "\n",
    "### Maximum overall extra credit: 5% grade increase\n",
    "\n",
    "If you detect mistakes or missing information on GitHub, submit a pull request. Make sure you use the comments in the pull request to describe in detail the change you want to add.\n",
    "\n",
    "1. It can be for fixing of typos which lead to incorrect code or confusing wording\n",
    "> * You can submit just regular typo updates. (i.e. “Heere -> Here”). However, this will not directly contribute to your grade but will place you in our good grace (which might help you after all!)\n",
    "> * If your correction fixes code that does not work if directly pasted or fixes a sentence that does not make sense: you will get a **1% grade increase** for successful pull request.\n",
    "\n",
    "2. It can be for extending an existing explanation of a step. \n",
    "> * For example,you can add to the explanation why we were filtering at a particular step, or other useful explanations.\n",
    "> * You will get a **1% grade increase** for successful pull requests.\n",
    "\n",
    "3. It can be for pointing to good existing resources or tutorials on a topic.\n",
    "> * Everything you add has to be directly connected to the course material\n",
    "> * State where you found the information\n",
    "“Following the link on Stackoverflow (www...) you will see ...”\n",
    "> * Explain why you think this material is useful for the Module\n",
    "Just linking an RStudio cheat sheet stating that it’s useful is not enough. Similarly simply pasting a review paper is also not enough. State the sections which are relevant and tie it directly to the course material.\n",
    "> * You will get a **1% grade increase** for successful commits.\n",
    "\n",
    "4. It can be for submitting extra material or tutorials you put together yourself\n",
    "> * Everything you add has to be directly connected to the course material\n",
    "> * Acceptable formats are: .ipynb, .pdf\n",
    "> * State where you found the information\n",
    "> * Everything has to be typed out by yourself (no copy pasting from existing websites) “Following the link on Stackoverflow (www...) I managed to get this to work which is useful because ...”\n",
    "> * You will get a **5% grade increase** for successful commits."
   ]
  },
  {
   "cell_type": "markdown",
   "metadata": {},
   "source": [
    "---\n",
    "## INSTRUCTIONS:\n",
    "\n",
    "**NOTE:** Pull requests that do not follow the instructions below will automatically be rejected.\n",
    "\n",
    "### 1. Open up an issue on the Github: https://help.github.com/en/articles/creating-an-issue\n",
    "In the issue please provide:\n",
    "* Which extra credit option you plan on doing\n",
    "* Description of what you will do\n",
    "* Which files you will affect (if any)\n",
    "* Which files you will create (if any)\n",
    "\n",
    "A TA will reply to your issue and give you the \"go-ahead\". You must receive a \"go-ahead\" prior to creating your pull-request.\n",
    "\n",
    "### 2. Create a fork of the repository: \n",
    "\n",
    "This is a copy of the original class github that you can make your own changes to.\n",
    "\n",
    "https://guides.github.com/activities/forking/#fork\n",
    "\n",
    "### 3. Make changes, commit them and push them up to GitHub:\n",
    "\n",
    "This is a great resource for learning how to use GitHub to create changes. https://dont-be-afraid-to-commit.readthedocs.io/en/latest/git/commandlinegit.html\n",
    "\n",
    "Feel free to find other resources that work for you.\n",
    "\n",
    "### 4. Create a pull request:\n",
    "\n",
    "Now that you have made changes, request that they be integrated into the class website.\n",
    "\n",
    "This provides a simple guide on how to create a pull request: https://guides.github.com/activities/hello-world/#pr\n",
    "\n",
    "In the pull request please provide:\n",
    "* The issue number to the approved issue (each issue gets assigned a unique #)\n",
    "* A description of the changes that you have made"
   ]
  }
 ],
 "metadata": {
  "kernelspec": {
   "display_name": "Python 3",
   "language": "python",
   "name": "python3"
  },
  "language_info": {
   "codemirror_mode": {
    "name": "ipython",
    "version": 3
   },
   "file_extension": ".py",
   "mimetype": "text/x-python",
   "name": "python",
   "nbconvert_exporter": "python",
   "pygments_lexer": "ipython3",
   "version": "3.6.7"
  }
 },
 "nbformat": 4,
 "nbformat_minor": 2
}

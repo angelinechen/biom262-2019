{
 "cells": [
  {
   "cell_type": "markdown",
   "metadata": {
    "collapsed": true
   },
   "source": [
    "# BIOM262: Quantitative Methods in Genetics and Genomics\n",
    "**University of California San Diego (UCSD)**  \n",
    "**Winter 2019**  \n",
    "\n",
    "### Contact us:\n",
    "Instructor I: [Dr. Gene Yeo](mailto:geneyeo@ucsd.edu \"Gene Yeo\") (geneyeo@ucsd.edu)  \n",
    "Instructor II [Dr. Alon Goren](mailto:agoren@ucsd.edu \"Alon Goren\") (agoren@ucsd.edu)  \n",
    "Teaching Assistant 1 [Patrick Fiaux](mailto:pfiaux@eng.ucsd.edu) (pfiaux@ucsd.edu)  \n",
    "Teaching Assistant 2 [Dana Nachmanson](mailto:dnachman@eng.ucsd.edu ) (dnachman@eng.ucsd.edu)  \n",
    "  \n",
    "Lecture-specific contact info provided below.\n",
    "\n",
    "### Course Description \n",
    "Quantitative Methods in Genetics and Genomics is designed to teach experimental and analytical approaches in modern genetics and genomics, from experimental design through data analysis in each of several topic areas. Lecturers this year include Patrick Fiaux, Scott Rifkin, Robert Morey, Olivier Harismendy, Alon Goren, Graham McVicker, Ondrej Libiger, Nicholas Schork, and Hannah Carter.  \n",
    "*This course is a requirement for students in the UCSD Genetics Training Program. 4 units.*\n",
    "\n",
    "### Lecture Location\n",
    "Lectures will all be held at the Sanford Consortium for Regenerative Medicine (SCRM) from 9AM - 12PM.  Room locations will vary over the course of the course.  Please refer to the syllabus (below) to find the location of each week's lecture.\n",
    "\n",
    "\n",
    "### Homework Submission\n",
    "Homework will be assigned on Thursdays and due on the following Thursday throughout the semester. There will not be an assignment every week. Assignments will be announced in the week they are assigned.  \n",
    "Submission of homework will be conducted **via the compute cluster** and will be **due by 9 AM PST on Thursday mornings.**\n",
    "\n",
    "### Late submission policy\n",
    "If for whatever reason you cannot deliver the homework/test on the due date, you should report it at least a day before the due date.\n",
    "First late submission: 10% of the maximal number of points is deducted for every day or part of a day that an assignment is handed in too late.\n",
    "Subsequent late assignments: 20% of the maximal number of points is deducted for every day or part of a day that an assignment is handed in too late.\n",
    "Things happen, if you are experiencing a health/family emergency, please let us know and we can work something out.\n",
    "\n",
    "### Email policy\n",
    "Please use office hours for questions regarding the homework and/or tests. It can be difficult, especially with code and software, to troubleshoot your problems via email.\n",
    "If you must email regarding a question please keep emails from Monday-Friday 7am - 8pm. Otherwise there is no guarantee you will receive a response.\n",
    "\n",
    "### Office Hours\n",
    "**Time:** Tuesdays 12PM - 1PM after class  \n",
    "**Schedule:**  \n"
   ]
  },
  {
   "cell_type": "markdown",
   "execution_count": null,
   "metadata": {
    "collapsed": true
   },
   "outputs": [],
   "source": [
    "## Syllabus\n",
    "\n",
    "| Module Num. | Date |  Lecture Room | Lecturer | Topic |\n",
    "| ----------- | ---- | ------------- | -------- | ----- |\n",
    "| **0** |  |  |  | Pre-class Setup |\n",
    "| **1** | 01/08/19 | 1013A+B | **Patrick Fiaux** ([contact](mailto:pfiaux@ucsd.edu)) | Unix, TSCC, Jupyter |\n",
    "|       | 01/10/19 | 1013A+B | Patrick Fiaux | RNA-Seq (Transcriptomics Analysis) |\n",
    "| **2** | 01/15/19 | 1013A+B | Patrick Fiaux | Intro to R I|\n",
    "|       | 01/17/19 | 1013A+B | Patrick Fiaux | Intro to R II |\n",
    "| **3** | 01/22/19 | 1013A+B | **Scott Rifkin** ([contact](mailto:sarifkin@ucsd.edu)) | Statistics I |\n",
    "|       | 01/24/19 | 1013A+B | Scott Rifkin | Statistics II|\n",
    "| **4** | 01/29/19 | 1013A+B | **Robert Morey** ([contact](mailto:sarifkin@ucsd.edu)) | Single Cell Sequencing Analysis |\n",
    "|       | 01/31/19 | 1013A+B | Robert Morey | Single Cell Sequencing Analysis |\n",
    "| **5** | 02/05/19 | 1013A+B | **Alon Goren** ([contact](mailto:agoren@ucsd.edu))  | ChIP Binding |\n",
    "|       | 02/07/19 | 1013A+B | Alon Goren | ChIP Binding |\n",
    "| **6** | 02/12/19 | 1013A+B |  Alon Goren | ChIP Binding |\n",
    "|       | 02/14/19 | 1013A+B | No Class | Midterm Office hours |\n",
    "| **7** | 02/19/19 | 1013A+B | **Hannah Carter** ([contact](mailto:hcarte10@gmail.com agoren@ucsd.edu)) | Networks |\n",
    "|       | 02/21/19 | 1013A+B | Hannah Carter | Networks |\n",
    "| **8** | 02/26/19 | 1013A+B | **Graham McVicker** ([contact](mailto:gmcvicker@salk.edu)) | Genome Wide Association Studies (GWAS) |\n",
    "|       | 02/28/19 | 1013A+B | Graham McVicker | GWAS |\n",
    "| **9** | 03/05/19 | 1013A+B | **Nicholas Schork** ([contact](mailto:nschork@ucsd.edu)) | Population Genetics |\n",
    "|       | 03/07/19 | 1013A+B | **Ondrej Libiger** ([contact](mailto:ondrej@mdrevolution.com)) | PLINK |\n",
    "| **10** | 03/12/19 | 1013A+B | **Olivier Harismendy** ([contact](mailto:oharismendy@ucsd.edu@ucsd.edu)) | Variant Calling.|\n",
    "|       | 03/14/19 | 1013A+B |  Olivier Harismendy | Variant Calling |"
   ]
  },
  {
   "cell_type": "markdown",
   "metadata": {},
   "source": [
    "\n",
    "\n",
    "## Take Home Exams\n",
    "\n",
    "**Midterm:** Assigned on 2/07, Due on 2/18 at 11:59PM  \n",
    "**Final Exam:** Assigned on 3/14, Due on 3/24 at 11:59PM"
   ]
  }
 ],
 "metadata": {
  "kernelspec": {
   "display_name": "Python 2",
   "language": "python",
   "name": "python2"
  },
  "language_info": {
   "codemirror_mode": {
    "name": "ipython",
    "version": 2
   },
   "file_extension": ".py",
   "mimetype": "text/x-python",
   "name": "python",
   "nbconvert_exporter": "python",
   "pygments_lexer": "ipython2",
   "version": "2.7.13"
  }
 },
 "nbformat": 4,
 "nbformat_minor": 0
}

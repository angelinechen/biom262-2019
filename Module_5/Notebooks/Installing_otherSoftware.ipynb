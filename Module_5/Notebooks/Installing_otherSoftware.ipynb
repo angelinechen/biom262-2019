{
 "cells": [
  {
   "cell_type": "markdown",
   "metadata": {},
   "source": [
    "Installing bowtie2\n",
    "\n",
    "Use the conda install function for installing bowtie2, bedtools and igvtools"
   ]
  },
  {
   "cell_type": "code",
   "execution_count": null,
   "metadata": {
    "collapsed": true
   },
   "outputs": [],
   "source": [
    "%%\n",
    "conda install -c bioconda bowtie2\n",
    "conda install -c bioconda bedtools\n",
    "conda install -c bioconda igvtools"
   ]
  },
  {
   "cell_type": "markdown",
   "metadata": {},
   "source": [
    "Due to a recent update, samtools will not be working for all of you, even if you've installed it. To determine whether you're affected by this type 'samtools' in your home directory. \n",
    "\n",
    "You will either see the samtools manual rushing across your screen, showing you all required or optional flags.\n",
    "\n",
    "If you have the problematic install you will see the following error: samtools: error while loading shared libraries: libcrypto.so.1.0.0: cannot open shared object file: No such file or directory\n",
    "\n",
    "In this case try the following:\n",
    "\n",
    "Move to your anaconda library (or miniconda, depending on what you have):"
   ]
  },
  {
   "cell_type": "code",
   "execution_count": null,
   "metadata": {
    "collapsed": true
   },
   "outputs": [],
   "source": [
    "cd anaconda2/lib/"
   ]
  },
  {
   "cell_type": "markdown",
   "metadata": {},
   "source": [
    "Check that you have libcrypto.so.1.1 by typing ' less libcrypto.' and then tab complete (hit 'tab' twice in a row). That will show you all files with libcrypto. as a start. If you find libcrypto.so.1.1 being one of the options, create a softlink to libcrypto.so.1.0.0"
   ]
  },
  {
   "cell_type": "code",
   "execution_count": null,
   "metadata": {
    "collapsed": true
   },
   "outputs": [],
   "source": [
    "ln -s libcrypto.so.1.1 libcrypto.so.1.0.0"
   ]
  },
  {
   "cell_type": "markdown",
   "metadata": {},
   "source": [
    "Now check again if samtools is working. If the flags show up, great! If not, let us know."
   ]
  }
 ],
 "metadata": {
  "kernelspec": {
   "display_name": "Python 2",
   "language": "python",
   "name": "python2"
  },
  "language_info": {
   "codemirror_mode": {
    "name": "ipython",
    "version": 2
   },
   "file_extension": ".py",
   "mimetype": "text/x-python",
   "name": "python",
   "nbconvert_exporter": "python",
   "pygments_lexer": "ipython2",
   "version": "2.7.13"
  }
 },
 "nbformat": 4,
 "nbformat_minor": 2
}
